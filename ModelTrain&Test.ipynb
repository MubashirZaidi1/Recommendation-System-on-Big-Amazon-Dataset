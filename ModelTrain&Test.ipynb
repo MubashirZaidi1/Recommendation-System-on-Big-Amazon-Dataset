{
 "cells": [
  {
   "cell_type": "code",
   "execution_count": 1,
   "id": "842e924e",
   "metadata": {},
   "outputs": [],
   "source": [
    "import findspark\n",
    "findspark.init()\n",
    "import pyspark\n",
    "from pyspark.sql import SparkSession\n",
    "from pyspark.sql.functions import *\n",
    "from pyspark.sql.types import *\n",
    "from pyspark.ml.feature import StringIndexer\n",
    "from pyspark.ml.recommendation import ALS\n",
    "from pyspark.ml.evaluation import RegressionEvaluator\n",
    "from pyspark.ml import Pipeline\n",
    "\n",
    "\n",
    "# Create a Spark session with increased resources\n",
    "spark = SparkSession.builder \\\n",
    "    .appName(\"Amazon Recommendation Model with ALS\") \\\n",
    "    .config(\"spark.executor.memory\", \"8g\") \\\n",
    "    .config(\"spark.driver.memory\", \"8g\") \\\n",
    "    .config(\"spark.jars.packages\", \"org.mongodb.spark:mongo-spark-connector_2.12:3.0.1\") \\\n",
    "    .getOrCreate()\n",
    "\n",
    "# Read data from MongoDB and cache it\n",
    "df = spark.read.format(\"mongo\") \\\n",
    "    .option(\"uri\", \"mongodb://localhost:27017/amazon.model\") \\\n",
    "    .load() \\\n",
    "    .dropna()"
   ]
  },
  {
   "cell_type": "code",
   "execution_count": 2,
   "id": "1eb1cb98",
   "metadata": {},
   "outputs": [
    {
     "name": "stdout",
     "output_type": "stream",
     "text": [
      "+-------+--------------------+-------------------+--------------------+\n",
      "|summary|                asin|            overall|          reviewerID|\n",
      "+-------+--------------------+-------------------+--------------------+\n",
      "|  count|              232108|             232108|              232108|\n",
      "|   mean|1.1571355080580082E9| 0.6372249125407138|                null|\n",
      "| stddev|1.1955291145389128E9|0.48080174639693984|                null|\n",
      "|    min|          0001046314|                  0|A0003492LQH8LJXPWDMZ|\n",
      "|    max|          B01HJG3UQI|                  1|         AZZZZJYGA32|\n",
      "+-------+--------------------+-------------------+--------------------+\n",
      "\n"
     ]
    }
   ],
   "source": [
    "df = df.withColumn(\"overall\", when(df.overall > 4, 1).otherwise(0))\n",
    "sampled_data = df.sampleBy(\"overall\", fractions={0: 0.001, 1: 0.001}, seed=42)\n",
    "sampled_data.cache()\n",
    "sampled_data.describe().show()\n"
   ]
  },
  {
   "cell_type": "code",
   "execution_count": 3,
   "id": "60912966",
   "metadata": {
    "scrolled": true
   },
   "outputs": [],
   "source": [
    "from pyspark.ml.feature import StringIndexer\n",
    "import pickle\n",
    "\n",
    "\n",
    "sampled_data.cache()\n",
    "\n",
    "# Index the reviewerID, asin, and overall columns\n",
    "reviewer_indexer = StringIndexer(inputCol=\"reviewerID\", outputCol=\"reviewer_index\").fit(sampled_data)\n",
    "reviewer_indexer.save(\"reviewer_indexer\")\n",
    "\n",
    "asin_indexer = StringIndexer(inputCol=\"asin\", outputCol=\"asin_index\").fit(sampled_data)\n",
    "asin_indexer.save(\"asin_indexer\")\n",
    "\n",
    "\n",
    "overall_indexer = StringIndexer(inputCol=\"overall\", outputCol=\"overall_index\").fit(sampled_data)\n",
    "overall_indexer.save(\"overall_indexer\")\n",
    "\n",
    "\n",
    "# Apply the indexers to the data\n",
    "indexed_data = reviewer_indexer.transform(sampled_data)\n",
    "indexed_data = asin_indexer.transform(indexed_data)\n",
    "indexed_data = overall_indexer.transform(indexed_data)\n",
    "\n",
    "(training_data, test_data) = indexed_data.randomSplit([0.7, 0.3], seed=42)\n",
    "\n",
    "# Train the recommendation model\n",
    "from pyspark.ml.recommendation import ALS\n",
    "\n",
    "als = ALS(userCol=\"reviewer_index\", itemCol=\"asin_index\", ratingCol=\"overall\",\n",
    "         coldStartStrategy=\"drop\", nonnegative=True, implicitPrefs=False,maxIter= 3,regParam=0.09,rank=8)\n",
    "model = als.fit(training_data)\n",
    "\n"
   ]
  },
  {
   "cell_type": "code",
   "execution_count": 4,
   "id": "783357a7",
   "metadata": {},
   "outputs": [
    {
     "name": "stdout",
     "output_type": "stream",
     "text": [
      "Root-mean-square error = 0.7066874033473669\n"
     ]
    }
   ],
   "source": [
    "from pyspark.ml.evaluation import RegressionEvaluator\n",
    "\n",
    "# Make predictions on the test data\n",
    "predictions = model.transform(test_data)\n",
    "\n",
    "# Evaluate the model using RMSE\n",
    "evaluator = RegressionEvaluator(metricName=\"rmse\", labelCol=\"overall\",\n",
    "                                predictionCol=\"prediction\")\n",
    "rmse = evaluator.evaluate(predictions)\n",
    "\n",
    "print(\"Root-mean-square error = \" + str(rmse))"
   ]
  },
  {
   "cell_type": "code",
   "execution_count": 5,
   "id": "e7c85334",
   "metadata": {},
   "outputs": [
    {
     "name": "stdout",
     "output_type": "stream",
     "text": [
      "Root-mean-square error = 0.7066874033473669\n",
      "accuracy :  0.2577565632458234\n",
      "F1 score = 0.19250991440414877\n",
      "recall :  0.2577565632458234\n"
     ]
    }
   ],
   "source": [
    "from pyspark.sql.functions import col, expr\n",
    "from pyspark.mllib.evaluation import MulticlassMetrics\n",
    "from pyspark.ml.evaluation import RegressionEvaluator\n",
    "\n",
    "evaluator = RegressionEvaluator(metricName=\"rmse\", labelCol=\"overall\",\n",
    "                                predictionCol=\"prediction\")\n",
    "rmse = evaluator.evaluate(predictions)\n",
    "\n",
    "print(\"Root-mean-square error = \" + str(rmse))\n",
    "predictions = predictions.withColumn(\"prediction\", predictions[\"prediction\"].cast(DoubleType()))\n",
    "from pyspark.ml.evaluation import MulticlassClassificationEvaluator\n",
    "multi_evaluator = MulticlassClassificationEvaluator(labelCol='overall',metricName='accuracy')\n",
    "print(\"accuracy : \" , multi_evaluator.evaluate(predictions))\n",
    "# Filter out rows where the \"prediction\" column is null or not a number\n",
    "#f1 = MulticlassClassificationEvaluator(labelCol='overall',metricName='f1')\n",
    "#print(\"f1 score  : \" , f1.evaluate(predictions))\n",
    "\n",
    "\n",
    "evaluator = MulticlassClassificationEvaluator(labelCol=\"overall\",\n",
    "                                              predictionCol=\"prediction\",\n",
    "                                              metricName=\"f1\")\n",
    "\n",
    "f1_score = evaluator.evaluate(predictions)\n",
    "\n",
    "print(\"F1 score = \" + str(f1_score))\n",
    "evaluator = MulticlassClassificationEvaluator(labelCol=\"overall\",\n",
    "                                              predictionCol=\"prediction\",\n",
    "                                              metricName=\"weightedRecall\")\n",
    "\n",
    "\n",
    "\n",
    "print(\"recall : \",str(evaluator.evaluate(predictions)))\n",
    "\n",
    "\n",
    "\n",
    "\n",
    "\n",
    "\n",
    "\n",
    "\n"
   ]
  },
  {
   "cell_type": "code",
   "execution_count": 6,
   "id": "a026fa7f",
   "metadata": {},
   "outputs": [],
   "source": [
    "model.save(\"als_modelFinal\")\n",
    "    "
   ]
  }
 ],
 "metadata": {
  "kernelspec": {
   "display_name": "Python 3 (ipykernel)",
   "language": "python",
   "name": "python3"
  },
  "language_info": {
   "codemirror_mode": {
    "name": "ipython",
    "version": 3
   },
   "file_extension": ".py",
   "mimetype": "text/x-python",
   "name": "python",
   "nbconvert_exporter": "python",
   "pygments_lexer": "ipython3",
   "version": "3.9.13"
  }
 },
 "nbformat": 4,
 "nbformat_minor": 5
}
